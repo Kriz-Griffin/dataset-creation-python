{
 "cells": [
  {
   "cell_type": "code",
   "execution_count": 1,
   "id": "de293027",
   "metadata": {},
   "outputs": [],
   "source": [
    "#importing libraries\n",
    "import pandas as pd\n",
    "import numpy as np\n",
    "import random"
   ]
  },
  {
   "cell_type": "markdown",
   "id": "4363a0f7",
   "metadata": {},
   "source": [
    "### creating array for student id"
   ]
  },
  {
   "cell_type": "code",
   "execution_count": 2,
   "id": "7555190b",
   "metadata": {},
   "outputs": [],
   "source": [
    "sid = np.arange(1000,2000) #1000 is start and 2000 is end"
   ]
  },
  {
   "cell_type": "code",
   "execution_count": 3,
   "id": "343bcb4f",
   "metadata": {},
   "outputs": [
    {
     "data": {
      "text/plain": [
       "array([1001, 1002, 1003, 1004, 1005, 1006, 1007, 1008, 1009])"
      ]
     },
     "execution_count": 3,
     "metadata": {},
     "output_type": "execute_result"
    }
   ],
   "source": [
    "sid[1:10] #first 10 values"
   ]
  },
  {
   "cell_type": "code",
   "execution_count": 4,
   "id": "dedd6447",
   "metadata": {},
   "outputs": [
    {
     "data": {
      "text/plain": [
       "1000"
      ]
     },
     "execution_count": 4,
     "metadata": {},
     "output_type": "execute_result"
    }
   ],
   "source": [
    "sid.size"
   ]
  },
  {
   "cell_type": "markdown",
   "id": "f91b5a91",
   "metadata": {},
   "source": [
    "## creating random datas for categorical values like gender"
   ]
  },
  {
   "cell_type": "code",
   "execution_count": 5,
   "id": "d1c8e50f",
   "metadata": {},
   "outputs": [],
   "source": [
    "gen = ['male','female'] \n",
    "gender = [] #empty list to store n number of data\n",
    "\n",
    "for i in range(1000):\n",
    "    x = random.choice(gen)\n",
    "    gender.append(x)"
   ]
  },
  {
   "cell_type": "code",
   "execution_count": 8,
   "id": "c21b7a9b",
   "metadata": {},
   "outputs": [
    {
     "data": {
      "text/plain": [
       "['female',\n",
       " 'female',\n",
       " 'female',\n",
       " 'female',\n",
       " 'male',\n",
       " 'female',\n",
       " 'female',\n",
       " 'male',\n",
       " 'female']"
      ]
     },
     "execution_count": 8,
     "metadata": {},
     "output_type": "execute_result"
    }
   ],
   "source": [
    "gender[1:10] #first 10 values"
   ]
  },
  {
   "cell_type": "code",
   "execution_count": 9,
   "id": "ed4ae099",
   "metadata": {},
   "outputs": [
    {
     "data": {
      "text/plain": [
       "1000"
      ]
     },
     "execution_count": 9,
     "metadata": {},
     "output_type": "execute_result"
    }
   ],
   "source": [
    "len(gender)"
   ]
  },
  {
   "cell_type": "markdown",
   "id": "ba07f80c",
   "metadata": {},
   "source": [
    "## Class"
   ]
  },
  {
   "cell_type": "code",
   "execution_count": 10,
   "id": "a3391e32",
   "metadata": {},
   "outputs": [],
   "source": [
    "courses = ['BCA','BSc.CS','B.Tech','MCA','M.Tech','MSc.CS']\n",
    "cls = []"
   ]
  },
  {
   "cell_type": "code",
   "execution_count": 11,
   "id": "dbef94ae",
   "metadata": {},
   "outputs": [],
   "source": [
    "for i in range(1000):\n",
    "    x = random.choice(courses)\n",
    "    cls.append(x)"
   ]
  },
  {
   "cell_type": "code",
   "execution_count": 13,
   "id": "8e188cc0",
   "metadata": {},
   "outputs": [
    {
     "data": {
      "text/plain": [
       "['B.Tech',\n",
       " 'B.Tech',\n",
       " 'B.Tech',\n",
       " 'M.Tech',\n",
       " 'MSc.CS',\n",
       " 'MCA',\n",
       " 'BCA',\n",
       " 'B.Tech',\n",
       " 'MCA']"
      ]
     },
     "execution_count": 13,
     "metadata": {},
     "output_type": "execute_result"
    }
   ],
   "source": [
    "cls[1:10] #first 10 values"
   ]
  },
  {
   "cell_type": "code",
   "execution_count": 14,
   "id": "710b2ebe",
   "metadata": {},
   "outputs": [
    {
     "data": {
      "text/plain": [
       "1000"
      ]
     },
     "execution_count": 14,
     "metadata": {},
     "output_type": "execute_result"
    }
   ],
   "source": [
    "len(cls)"
   ]
  },
  {
   "cell_type": "markdown",
   "id": "08b22f2e",
   "metadata": {},
   "source": [
    "## Pass or fail"
   ]
  },
  {
   "cell_type": "code",
   "execution_count": 15,
   "id": "657bc805",
   "metadata": {},
   "outputs": [],
   "source": [
    "porf = ['Pass','Pass','Pass','Pass','Pass','Pass','Pass','Fail'] \n",
    "#chance of fail is low and pass is high (1/8 chance of fail and 7/8 chance pass)\n",
    "status = []"
   ]
  },
  {
   "cell_type": "markdown",
   "id": "991126eb",
   "metadata": {},
   "source": [
    "you can use the same method to add Transgender in generating gender"
   ]
  },
  {
   "cell_type": "code",
   "execution_count": 16,
   "id": "8afc4191",
   "metadata": {},
   "outputs": [],
   "source": [
    "for i in range(1000):\n",
    "    x = random.choice(porf)\n",
    "    status.append(x)"
   ]
  },
  {
   "cell_type": "code",
   "execution_count": 17,
   "id": "833a286d",
   "metadata": {},
   "outputs": [
    {
     "data": {
      "text/plain": [
       "['Pass', 'Pass', 'Fail', 'Pass', 'Pass', 'Pass', 'Pass', 'Fail', 'Pass']"
      ]
     },
     "execution_count": 17,
     "metadata": {},
     "output_type": "execute_result"
    }
   ],
   "source": [
    "status[1:10]#first 10 values"
   ]
  },
  {
   "cell_type": "code",
   "execution_count": 18,
   "id": "e0e60ec1",
   "metadata": {},
   "outputs": [
    {
     "data": {
      "text/plain": [
       "1000"
      ]
     },
     "execution_count": 18,
     "metadata": {},
     "output_type": "execute_result"
    }
   ],
   "source": [
    "len(status)"
   ]
  },
  {
   "cell_type": "markdown",
   "id": "540edce2",
   "metadata": {},
   "source": [
    "## creating datas according to the categorical data"
   ]
  },
  {
   "cell_type": "markdown",
   "id": "871c2d81",
   "metadata": {},
   "source": [
    "We have created the dataset of passed or failed, now we should create marks according to that. for example if a person is failed, their mark should be less than or equal to 30, if they are passed it should be above 30"
   ]
  },
  {
   "cell_type": "code",
   "execution_count": 19,
   "id": "e3e63bca",
   "metadata": {},
   "outputs": [],
   "source": [
    "#create an empty list for marks\n",
    "marks = []"
   ]
  },
  {
   "cell_type": "code",
   "execution_count": 20,
   "id": "5e5facb2",
   "metadata": {},
   "outputs": [],
   "source": [
    "#iterate through status list and using if condition assign them a value\n",
    "for i in status:\n",
    "    if (i == \"Fail\"):\n",
    "        tempmark = np.random.randint(0,30)\n",
    "        marks.append(tempmark)\n",
    "    else:\n",
    "        tempmark = np.random.randint(30,100)\n",
    "        marks.append(tempmark)"
   ]
  },
  {
   "cell_type": "code",
   "execution_count": 21,
   "id": "0166b027",
   "metadata": {},
   "outputs": [
    {
     "data": {
      "text/plain": [
       "1000"
      ]
     },
     "execution_count": 21,
     "metadata": {},
     "output_type": "execute_result"
    }
   ],
   "source": [
    "len(marks)"
   ]
  },
  {
   "cell_type": "markdown",
   "id": "de22ce45",
   "metadata": {},
   "source": [
    "# Converting these into datasets"
   ]
  },
  {
   "cell_type": "code",
   "execution_count": 22,
   "id": "27fca4a3",
   "metadata": {},
   "outputs": [],
   "source": [
    "#sid,gender,class,status,marks are the attributes"
   ]
  },
  {
   "cell_type": "code",
   "execution_count": 23,
   "id": "d11b3540",
   "metadata": {},
   "outputs": [],
   "source": [
    "df = pd.DataFrame({'Student ID':sid,'Gender':gender,'Class':cls,'Pass/Fail':status,'Marks':marks})"
   ]
  },
  {
   "cell_type": "code",
   "execution_count": 24,
   "id": "fdf6245d",
   "metadata": {},
   "outputs": [
    {
     "data": {
      "text/html": [
       "<div>\n",
       "<style scoped>\n",
       "    .dataframe tbody tr th:only-of-type {\n",
       "        vertical-align: middle;\n",
       "    }\n",
       "\n",
       "    .dataframe tbody tr th {\n",
       "        vertical-align: top;\n",
       "    }\n",
       "\n",
       "    .dataframe thead th {\n",
       "        text-align: right;\n",
       "    }\n",
       "</style>\n",
       "<table border=\"1\" class=\"dataframe\">\n",
       "  <thead>\n",
       "    <tr style=\"text-align: right;\">\n",
       "      <th></th>\n",
       "      <th>Student ID</th>\n",
       "      <th>Gender</th>\n",
       "      <th>Class</th>\n",
       "      <th>Pass/Fail</th>\n",
       "      <th>Marks</th>\n",
       "    </tr>\n",
       "  </thead>\n",
       "  <tbody>\n",
       "    <tr>\n",
       "      <th>0</th>\n",
       "      <td>1000</td>\n",
       "      <td>female</td>\n",
       "      <td>BCA</td>\n",
       "      <td>Pass</td>\n",
       "      <td>92</td>\n",
       "    </tr>\n",
       "    <tr>\n",
       "      <th>1</th>\n",
       "      <td>1001</td>\n",
       "      <td>female</td>\n",
       "      <td>B.Tech</td>\n",
       "      <td>Pass</td>\n",
       "      <td>40</td>\n",
       "    </tr>\n",
       "    <tr>\n",
       "      <th>2</th>\n",
       "      <td>1002</td>\n",
       "      <td>female</td>\n",
       "      <td>B.Tech</td>\n",
       "      <td>Pass</td>\n",
       "      <td>77</td>\n",
       "    </tr>\n",
       "    <tr>\n",
       "      <th>3</th>\n",
       "      <td>1003</td>\n",
       "      <td>female</td>\n",
       "      <td>B.Tech</td>\n",
       "      <td>Fail</td>\n",
       "      <td>29</td>\n",
       "    </tr>\n",
       "    <tr>\n",
       "      <th>4</th>\n",
       "      <td>1004</td>\n",
       "      <td>female</td>\n",
       "      <td>M.Tech</td>\n",
       "      <td>Pass</td>\n",
       "      <td>54</td>\n",
       "    </tr>\n",
       "    <tr>\n",
       "      <th>5</th>\n",
       "      <td>1005</td>\n",
       "      <td>male</td>\n",
       "      <td>MSc.CS</td>\n",
       "      <td>Pass</td>\n",
       "      <td>57</td>\n",
       "    </tr>\n",
       "    <tr>\n",
       "      <th>6</th>\n",
       "      <td>1006</td>\n",
       "      <td>female</td>\n",
       "      <td>MCA</td>\n",
       "      <td>Pass</td>\n",
       "      <td>85</td>\n",
       "    </tr>\n",
       "    <tr>\n",
       "      <th>7</th>\n",
       "      <td>1007</td>\n",
       "      <td>female</td>\n",
       "      <td>BCA</td>\n",
       "      <td>Pass</td>\n",
       "      <td>68</td>\n",
       "    </tr>\n",
       "    <tr>\n",
       "      <th>8</th>\n",
       "      <td>1008</td>\n",
       "      <td>male</td>\n",
       "      <td>B.Tech</td>\n",
       "      <td>Fail</td>\n",
       "      <td>0</td>\n",
       "    </tr>\n",
       "    <tr>\n",
       "      <th>9</th>\n",
       "      <td>1009</td>\n",
       "      <td>female</td>\n",
       "      <td>MCA</td>\n",
       "      <td>Pass</td>\n",
       "      <td>53</td>\n",
       "    </tr>\n",
       "  </tbody>\n",
       "</table>\n",
       "</div>"
      ],
      "text/plain": [
       "   Student ID  Gender   Class Pass/Fail  Marks\n",
       "0        1000  female     BCA      Pass     92\n",
       "1        1001  female  B.Tech      Pass     40\n",
       "2        1002  female  B.Tech      Pass     77\n",
       "3        1003  female  B.Tech      Fail     29\n",
       "4        1004  female  M.Tech      Pass     54\n",
       "5        1005    male  MSc.CS      Pass     57\n",
       "6        1006  female     MCA      Pass     85\n",
       "7        1007  female     BCA      Pass     68\n",
       "8        1008    male  B.Tech      Fail      0\n",
       "9        1009  female     MCA      Pass     53"
      ]
     },
     "execution_count": 24,
     "metadata": {},
     "output_type": "execute_result"
    }
   ],
   "source": [
    "df.head(10)"
   ]
  },
  {
   "cell_type": "markdown",
   "id": "832104e6",
   "metadata": {},
   "source": [
    "# Saving dataframe to csv file"
   ]
  },
  {
   "cell_type": "code",
   "execution_count": 31,
   "id": "df349ed8",
   "metadata": {},
   "outputs": [],
   "source": [
    "df.to_csv(\"Downloads/File.csv\",index=False)"
   ]
  },
  {
   "cell_type": "markdown",
   "id": "487a17a7",
   "metadata": {},
   "source": [
    "## importing this dataset"
   ]
  },
  {
   "cell_type": "code",
   "execution_count": 32,
   "id": "5bc2516c",
   "metadata": {},
   "outputs": [],
   "source": [
    "dataframe = pd.read_csv(\"Downloads/File.csv\")"
   ]
  },
  {
   "cell_type": "code",
   "execution_count": 33,
   "id": "fbd4e680",
   "metadata": {
    "scrolled": true
   },
   "outputs": [
    {
     "data": {
      "text/html": [
       "<div>\n",
       "<style scoped>\n",
       "    .dataframe tbody tr th:only-of-type {\n",
       "        vertical-align: middle;\n",
       "    }\n",
       "\n",
       "    .dataframe tbody tr th {\n",
       "        vertical-align: top;\n",
       "    }\n",
       "\n",
       "    .dataframe thead th {\n",
       "        text-align: right;\n",
       "    }\n",
       "</style>\n",
       "<table border=\"1\" class=\"dataframe\">\n",
       "  <thead>\n",
       "    <tr style=\"text-align: right;\">\n",
       "      <th></th>\n",
       "      <th>Student ID</th>\n",
       "      <th>Gender</th>\n",
       "      <th>Class</th>\n",
       "      <th>Pass/Fail</th>\n",
       "      <th>Marks</th>\n",
       "    </tr>\n",
       "  </thead>\n",
       "  <tbody>\n",
       "    <tr>\n",
       "      <th>0</th>\n",
       "      <td>1000</td>\n",
       "      <td>female</td>\n",
       "      <td>BCA</td>\n",
       "      <td>Pass</td>\n",
       "      <td>92</td>\n",
       "    </tr>\n",
       "    <tr>\n",
       "      <th>1</th>\n",
       "      <td>1001</td>\n",
       "      <td>female</td>\n",
       "      <td>B.Tech</td>\n",
       "      <td>Pass</td>\n",
       "      <td>40</td>\n",
       "    </tr>\n",
       "    <tr>\n",
       "      <th>2</th>\n",
       "      <td>1002</td>\n",
       "      <td>female</td>\n",
       "      <td>B.Tech</td>\n",
       "      <td>Pass</td>\n",
       "      <td>77</td>\n",
       "    </tr>\n",
       "    <tr>\n",
       "      <th>3</th>\n",
       "      <td>1003</td>\n",
       "      <td>female</td>\n",
       "      <td>B.Tech</td>\n",
       "      <td>Fail</td>\n",
       "      <td>29</td>\n",
       "    </tr>\n",
       "    <tr>\n",
       "      <th>4</th>\n",
       "      <td>1004</td>\n",
       "      <td>female</td>\n",
       "      <td>M.Tech</td>\n",
       "      <td>Pass</td>\n",
       "      <td>54</td>\n",
       "    </tr>\n",
       "    <tr>\n",
       "      <th>5</th>\n",
       "      <td>1005</td>\n",
       "      <td>male</td>\n",
       "      <td>MSc.CS</td>\n",
       "      <td>Pass</td>\n",
       "      <td>57</td>\n",
       "    </tr>\n",
       "    <tr>\n",
       "      <th>6</th>\n",
       "      <td>1006</td>\n",
       "      <td>female</td>\n",
       "      <td>MCA</td>\n",
       "      <td>Pass</td>\n",
       "      <td>85</td>\n",
       "    </tr>\n",
       "    <tr>\n",
       "      <th>7</th>\n",
       "      <td>1007</td>\n",
       "      <td>female</td>\n",
       "      <td>BCA</td>\n",
       "      <td>Pass</td>\n",
       "      <td>68</td>\n",
       "    </tr>\n",
       "    <tr>\n",
       "      <th>8</th>\n",
       "      <td>1008</td>\n",
       "      <td>male</td>\n",
       "      <td>B.Tech</td>\n",
       "      <td>Fail</td>\n",
       "      <td>0</td>\n",
       "    </tr>\n",
       "    <tr>\n",
       "      <th>9</th>\n",
       "      <td>1009</td>\n",
       "      <td>female</td>\n",
       "      <td>MCA</td>\n",
       "      <td>Pass</td>\n",
       "      <td>53</td>\n",
       "    </tr>\n",
       "  </tbody>\n",
       "</table>\n",
       "</div>"
      ],
      "text/plain": [
       "   Student ID  Gender   Class Pass/Fail  Marks\n",
       "0        1000  female     BCA      Pass     92\n",
       "1        1001  female  B.Tech      Pass     40\n",
       "2        1002  female  B.Tech      Pass     77\n",
       "3        1003  female  B.Tech      Fail     29\n",
       "4        1004  female  M.Tech      Pass     54\n",
       "5        1005    male  MSc.CS      Pass     57\n",
       "6        1006  female     MCA      Pass     85\n",
       "7        1007  female     BCA      Pass     68\n",
       "8        1008    male  B.Tech      Fail      0\n",
       "9        1009  female     MCA      Pass     53"
      ]
     },
     "execution_count": 33,
     "metadata": {},
     "output_type": "execute_result"
    }
   ],
   "source": [
    "dataframe.head(10)"
   ]
  }
 ],
 "metadata": {
  "kernelspec": {
   "display_name": "Python 3 (ipykernel)",
   "language": "python",
   "name": "python3"
  },
  "language_info": {
   "codemirror_mode": {
    "name": "ipython",
    "version": 3
   },
   "file_extension": ".py",
   "mimetype": "text/x-python",
   "name": "python",
   "nbconvert_exporter": "python",
   "pygments_lexer": "ipython3",
   "version": "3.11.5"
  }
 },
 "nbformat": 4,
 "nbformat_minor": 5
}
